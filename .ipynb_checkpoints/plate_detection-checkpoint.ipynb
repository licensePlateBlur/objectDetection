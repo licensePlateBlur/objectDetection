{
 "cells": [
  {
   "cell_type": "markdown",
   "id": "cd059cd7",
   "metadata": {},
   "source": [
    "# yolov5 를 이용한 번호한 detection 및 blur 처리\n",
    "\n",
    "- 학습한 결과 : colab_best1.pt\n",
    "- custom 모델 제작\n",
    "- android stuio 에서 작동시키게 하기"
   ]
  },
  {
   "cell_type": "code",
   "execution_count": 2,
   "id": "303c59ca",
   "metadata": {},
   "outputs": [
    {
     "name": "stderr",
     "output_type": "stream",
     "text": [
      "Cloning into 'yolov5'...\n"
     ]
    }
   ],
   "source": [
    "!git clone https://github.com/ultralytics/yolov5.git"
   ]
  },
  {
   "cell_type": "code",
   "execution_count": 3,
   "id": "e3393b35",
   "metadata": {
    "collapsed": true
   },
   "outputs": [
    {
     "name": "stdout",
     "output_type": "stream",
     "text": [
      "Requirement already satisfied: matplotlib>=3.2.2 in c:\\users\\jong\\anaconda3\\envs\\torch\\lib\\site-packages (from -r requirements.txt (line 5)) (3.6.0)\n",
      "Requirement already satisfied: numpy>=1.18.5 in c:\\users\\jong\\anaconda3\\envs\\torch\\lib\\site-packages (from -r requirements.txt (line 6)) (1.23.1)\n",
      "Requirement already satisfied: opencv-python>=4.1.1 in c:\\users\\jong\\anaconda3\\envs\\torch\\lib\\site-packages (from -r requirements.txt (line 7)) (4.6.0.66)\n",
      "Requirement already satisfied: Pillow>=7.1.2 in c:\\users\\jong\\anaconda3\\envs\\torch\\lib\\site-packages (from -r requirements.txt (line 8)) (9.2.0)\n",
      "Requirement already satisfied: PyYAML>=5.3.1 in c:\\users\\jong\\anaconda3\\envs\\torch\\lib\\site-packages (from -r requirements.txt (line 9)) (5.4.1)\n",
      "Requirement already satisfied: requests>=2.23.0 in c:\\users\\jong\\anaconda3\\envs\\torch\\lib\\site-packages (from -r requirements.txt (line 10)) (2.28.1)\n",
      "Requirement already satisfied: scipy>=1.4.1 in c:\\users\\jong\\anaconda3\\envs\\torch\\lib\\site-packages (from -r requirements.txt (line 11)) (1.9.1)\n",
      "Requirement already satisfied: torch>=1.7.0 in c:\\users\\jong\\anaconda3\\envs\\torch\\lib\\site-packages (from -r requirements.txt (line 12)) (1.12.1)\n",
      "Requirement already satisfied: torchvision>=0.8.1 in c:\\users\\jong\\anaconda3\\envs\\torch\\lib\\site-packages (from -r requirements.txt (line 13)) (0.13.1)\n",
      "Requirement already satisfied: tqdm>=4.64.0 in c:\\users\\jong\\anaconda3\\envs\\torch\\lib\\site-packages (from -r requirements.txt (line 14)) (4.64.1)\n",
      "Requirement already satisfied: tensorboard>=2.4.1 in c:\\users\\jong\\anaconda3\\envs\\torch\\lib\\site-packages (from -r requirements.txt (line 18)) (2.10.0)\n",
      "Requirement already satisfied: pandas>=1.1.4 in c:\\users\\jong\\anaconda3\\envs\\torch\\lib\\site-packages (from -r requirements.txt (line 23)) (1.4.3)\n",
      "Requirement already satisfied: seaborn>=0.11.0 in c:\\users\\jong\\anaconda3\\envs\\torch\\lib\\site-packages (from -r requirements.txt (line 24)) (0.12.0)\n",
      "Requirement already satisfied: ipython in c:\\users\\jong\\anaconda3\\envs\\torch\\lib\\site-packages (from -r requirements.txt (line 41)) (8.4.0)\n",
      "Requirement already satisfied: psutil in c:\\users\\jong\\anaconda3\\envs\\torch\\lib\\site-packages (from -r requirements.txt (line 42)) (5.9.1)\n",
      "Requirement already satisfied: thop>=0.1.1 in c:\\users\\jong\\anaconda3\\envs\\torch\\lib\\site-packages (from -r requirements.txt (line 43)) (0.1.1.post2209072238)\n",
      "Requirement already satisfied: packaging>=20.0 in c:\\users\\jong\\anaconda3\\envs\\torch\\lib\\site-packages (from matplotlib>=3.2.2->-r requirements.txt (line 5)) (21.3)\n",
      "Requirement already satisfied: fonttools>=4.22.0 in c:\\users\\jong\\anaconda3\\envs\\torch\\lib\\site-packages (from matplotlib>=3.2.2->-r requirements.txt (line 5)) (4.37.3)\n",
      "Requirement already satisfied: python-dateutil>=2.7 in c:\\users\\jong\\anaconda3\\envs\\torch\\lib\\site-packages (from matplotlib>=3.2.2->-r requirements.txt (line 5)) (2.8.2)\n",
      "Requirement already satisfied: kiwisolver>=1.0.1 in c:\\users\\jong\\anaconda3\\envs\\torch\\lib\\site-packages (from matplotlib>=3.2.2->-r requirements.txt (line 5)) (1.4.4)\n",
      "Requirement already satisfied: cycler>=0.10 in c:\\users\\jong\\anaconda3\\envs\\torch\\lib\\site-packages (from matplotlib>=3.2.2->-r requirements.txt (line 5)) (0.11.0)\n",
      "Requirement already satisfied: pyparsing>=2.2.1 in c:\\users\\jong\\anaconda3\\envs\\torch\\lib\\site-packages (from matplotlib>=3.2.2->-r requirements.txt (line 5)) (3.0.9)\n",
      "Requirement already satisfied: contourpy>=1.0.1 in c:\\users\\jong\\anaconda3\\envs\\torch\\lib\\site-packages (from matplotlib>=3.2.2->-r requirements.txt (line 5)) (1.0.5)\n",
      "Requirement already satisfied: charset-normalizer<3,>=2 in c:\\users\\jong\\anaconda3\\envs\\torch\\lib\\site-packages (from requests>=2.23.0->-r requirements.txt (line 10)) (2.0.4)\n",
      "Requirement already satisfied: idna<4,>=2.5 in c:\\users\\jong\\anaconda3\\envs\\torch\\lib\\site-packages (from requests>=2.23.0->-r requirements.txt (line 10)) (3.3)\n",
      "Requirement already satisfied: certifi>=2017.4.17 in c:\\users\\jong\\anaconda3\\envs\\torch\\lib\\site-packages (from requests>=2.23.0->-r requirements.txt (line 10)) (2022.9.14)\n",
      "Requirement already satisfied: urllib3<1.27,>=1.21.1 in c:\\users\\jong\\anaconda3\\envs\\torch\\lib\\site-packages (from requests>=2.23.0->-r requirements.txt (line 10)) (1.26.11)\n",
      "Requirement already satisfied: typing_extensions in c:\\users\\jong\\anaconda3\\envs\\torch\\lib\\site-packages (from torch>=1.7.0->-r requirements.txt (line 12)) (4.3.0)\n",
      "Requirement already satisfied: colorama in c:\\users\\jong\\anaconda3\\envs\\torch\\lib\\site-packages (from tqdm>=4.64.0->-r requirements.txt (line 14)) (0.4.5)\n",
      "Requirement already satisfied: absl-py>=0.4 in c:\\users\\jong\\anaconda3\\envs\\torch\\lib\\site-packages (from tensorboard>=2.4.1->-r requirements.txt (line 18)) (1.2.0)\n",
      "Requirement already satisfied: grpcio>=1.24.3 in c:\\users\\jong\\anaconda3\\envs\\torch\\lib\\site-packages (from tensorboard>=2.4.1->-r requirements.txt (line 18)) (1.49.1)\n",
      "Requirement already satisfied: tensorboard-plugin-wit>=1.6.0 in c:\\users\\jong\\anaconda3\\envs\\torch\\lib\\site-packages (from tensorboard>=2.4.1->-r requirements.txt (line 18)) (1.8.1)\n",
      "Requirement already satisfied: markdown>=2.6.8 in c:\\users\\jong\\anaconda3\\envs\\torch\\lib\\site-packages (from tensorboard>=2.4.1->-r requirements.txt (line 18)) (3.4.1)\n",
      "Requirement already satisfied: setuptools>=41.0.0 in c:\\users\\jong\\anaconda3\\envs\\torch\\lib\\site-packages (from tensorboard>=2.4.1->-r requirements.txt (line 18)) (61.2.0)\n",
      "Requirement already satisfied: tensorboard-data-server<0.7.0,>=0.6.0 in c:\\users\\jong\\anaconda3\\envs\\torch\\lib\\site-packages (from tensorboard>=2.4.1->-r requirements.txt (line 18)) (0.6.1)\n",
      "Requirement already satisfied: wheel>=0.26 in c:\\users\\jong\\anaconda3\\envs\\torch\\lib\\site-packages (from tensorboard>=2.4.1->-r requirements.txt (line 18)) (0.37.1)\n",
      "Requirement already satisfied: protobuf<3.20,>=3.9.2 in c:\\users\\jong\\anaconda3\\envs\\torch\\lib\\site-packages (from tensorboard>=2.4.1->-r requirements.txt (line 18)) (3.19.5)\n",
      "Requirement already satisfied: google-auth-oauthlib<0.5,>=0.4.1 in c:\\users\\jong\\anaconda3\\envs\\torch\\lib\\site-packages (from tensorboard>=2.4.1->-r requirements.txt (line 18)) (0.4.6)\n",
      "Requirement already satisfied: werkzeug>=1.0.1 in c:\\users\\jong\\anaconda3\\envs\\torch\\lib\\site-packages (from tensorboard>=2.4.1->-r requirements.txt (line 18)) (2.2.2)\n",
      "Requirement already satisfied: google-auth<3,>=1.6.3 in c:\\users\\jong\\anaconda3\\envs\\torch\\lib\\site-packages (from tensorboard>=2.4.1->-r requirements.txt (line 18)) (2.11.1)\n",
      "Requirement already satisfied: pytz>=2020.1 in c:\\users\\jong\\anaconda3\\envs\\torch\\lib\\site-packages (from pandas>=1.1.4->-r requirements.txt (line 23)) (2022.1)\n",
      "Requirement already satisfied: decorator in c:\\users\\jong\\anaconda3\\envs\\torch\\lib\\site-packages (from ipython->-r requirements.txt (line 41)) (5.1.1)\n",
      "Requirement already satisfied: matplotlib-inline in c:\\users\\jong\\anaconda3\\envs\\torch\\lib\\site-packages (from ipython->-r requirements.txt (line 41)) (0.1.5)\n",
      "Requirement already satisfied: traitlets>=5 in c:\\users\\jong\\anaconda3\\envs\\torch\\lib\\site-packages (from ipython->-r requirements.txt (line 41)) (5.3.0)\n",
      "Requirement already satisfied: jedi>=0.16 in c:\\users\\jong\\anaconda3\\envs\\torch\\lib\\site-packages (from ipython->-r requirements.txt (line 41)) (0.18.1)\n",
      "Requirement already satisfied: stack-data in c:\\users\\jong\\anaconda3\\envs\\torch\\lib\\site-packages (from ipython->-r requirements.txt (line 41)) (0.4.0)\n",
      "Requirement already satisfied: backcall in c:\\users\\jong\\anaconda3\\envs\\torch\\lib\\site-packages (from ipython->-r requirements.txt (line 41)) (0.2.0)\n",
      "Requirement already satisfied: pickleshare in c:\\users\\jong\\anaconda3\\envs\\torch\\lib\\site-packages (from ipython->-r requirements.txt (line 41)) (0.7.5)\n",
      "Requirement already satisfied: prompt-toolkit!=3.0.0,!=3.0.1,<3.1.0,>=2.0.0 in c:\\users\\jong\\anaconda3\\envs\\torch\\lib\\site-packages (from ipython->-r requirements.txt (line 41)) (3.0.30)\n",
      "Requirement already satisfied: pygments>=2.4.0 in c:\\users\\jong\\anaconda3\\envs\\torch\\lib\\site-packages (from ipython->-r requirements.txt (line 41)) (2.13.0)\n",
      "Requirement already satisfied: pyasn1-modules>=0.2.1 in c:\\users\\jong\\anaconda3\\envs\\torch\\lib\\site-packages (from google-auth<3,>=1.6.3->tensorboard>=2.4.1->-r requirements.txt (line 18)) (0.2.8)\n",
      "Requirement already satisfied: rsa<5,>=3.1.4 in c:\\users\\jong\\anaconda3\\envs\\torch\\lib\\site-packages (from google-auth<3,>=1.6.3->tensorboard>=2.4.1->-r requirements.txt (line 18)) (4.9)\n",
      "Requirement already satisfied: cachetools<6.0,>=2.0.0 in c:\\users\\jong\\anaconda3\\envs\\torch\\lib\\site-packages (from google-auth<3,>=1.6.3->tensorboard>=2.4.1->-r requirements.txt (line 18)) (5.2.0)\n",
      "Requirement already satisfied: six>=1.9.0 in c:\\users\\jong\\anaconda3\\envs\\torch\\lib\\site-packages (from google-auth<3,>=1.6.3->tensorboard>=2.4.1->-r requirements.txt (line 18)) (1.16.0)\n",
      "Requirement already satisfied: requests-oauthlib>=0.7.0 in c:\\users\\jong\\anaconda3\\envs\\torch\\lib\\site-packages (from google-auth-oauthlib<0.5,>=0.4.1->tensorboard>=2.4.1->-r requirements.txt (line 18)) (1.3.1)\n",
      "Requirement already satisfied: parso<0.9.0,>=0.8.0 in c:\\users\\jong\\anaconda3\\envs\\torch\\lib\\site-packages (from jedi>=0.16->ipython->-r requirements.txt (line 41)) (0.8.3)\n",
      "Requirement already satisfied: importlib-metadata>=4.4 in c:\\users\\jong\\anaconda3\\envs\\torch\\lib\\site-packages (from markdown>=2.6.8->tensorboard>=2.4.1->-r requirements.txt (line 18)) (4.12.0)\n",
      "Requirement already satisfied: wcwidth in c:\\users\\jong\\anaconda3\\envs\\torch\\lib\\site-packages (from prompt-toolkit!=3.0.0,!=3.0.1,<3.1.0,>=2.0.0->ipython->-r requirements.txt (line 41)) (0.2.5)\n",
      "Requirement already satisfied: MarkupSafe>=2.1.1 in c:\\users\\jong\\anaconda3\\envs\\torch\\lib\\site-packages (from werkzeug>=1.0.1->tensorboard>=2.4.1->-r requirements.txt (line 18)) (2.1.1)\n",
      "Requirement already satisfied: asttokens in c:\\users\\jong\\anaconda3\\envs\\torch\\lib\\site-packages (from stack-data->ipython->-r requirements.txt (line 41)) (2.0.8)\n",
      "Requirement already satisfied: pure-eval in c:\\users\\jong\\anaconda3\\envs\\torch\\lib\\site-packages (from stack-data->ipython->-r requirements.txt (line 41)) (0.2.2)\n",
      "Requirement already satisfied: executing in c:\\users\\jong\\anaconda3\\envs\\torch\\lib\\site-packages (from stack-data->ipython->-r requirements.txt (line 41)) (0.10.0)\n",
      "Requirement already satisfied: zipp>=0.5 in c:\\users\\jong\\anaconda3\\envs\\torch\\lib\\site-packages (from importlib-metadata>=4.4->markdown>=2.6.8->tensorboard>=2.4.1->-r requirements.txt (line 18)) (3.8.1)\n",
      "Requirement already satisfied: pyasn1<0.5.0,>=0.4.6 in c:\\users\\jong\\anaconda3\\envs\\torch\\lib\\site-packages (from pyasn1-modules>=0.2.1->google-auth<3,>=1.6.3->tensorboard>=2.4.1->-r requirements.txt (line 18)) (0.4.8)\n",
      "Requirement already satisfied: oauthlib>=3.0.0 in c:\\users\\jong\\anaconda3\\envs\\torch\\lib\\site-packages (from requests-oauthlib>=0.7.0->google-auth-oauthlib<0.5,>=0.4.1->tensorboard>=2.4.1->-r requirements.txt (line 18)) (3.2.1)\n"
     ]
    },
    {
     "name": "stderr",
     "output_type": "stream",
     "text": [
      "WARNING: Ignore distutils configs in setup.cfg due to encoding errors.\n",
      "WARNING: Ignore distutils configs in setup.cfg due to encoding errors.\n"
     ]
    }
   ],
   "source": [
    "!cd yolov5 & pip install -r requirements.txt"
   ]
  },
  {
   "cell_type": "code",
   "execution_count": 3,
   "id": "f7100a58",
   "metadata": {},
   "outputs": [],
   "source": [
    "import torch\n",
    "from matplotlib import pyplot as plt\n",
    "import numpy as np\n",
    "import cv2"
   ]
  },
  {
   "cell_type": "markdown",
   "id": "322504f4",
   "metadata": {},
   "source": [
    "## 학습시킨 weight 로 custom model 만들기"
   ]
  },
  {
   "cell_type": "code",
   "execution_count": 4,
   "id": "6a0afa81",
   "metadata": {},
   "outputs": [
    {
     "name": "stderr",
     "output_type": "stream",
     "text": [
      "Using cache found in C:\\Users\\jong/.cache\\torch\\hub\\ultralytics_yolov5_master\n",
      "YOLOv5  2022-9-25 Python-3.9.12 torch-1.12.1 CUDA:0 (NVIDIA GeForce RTX 3070, 8191MiB)\n",
      "\n",
      "Fusing layers... \n",
      "YOLOv5s summary: 213 layers, 7225885 parameters, 0 gradients\n",
      "Adding AutoShape... \n",
      "Using cache found in C:\\Users\\jong/.cache\\torch\\hub\\ultralytics_yolov5_master\n",
      "YOLOv5  2022-9-25 Python-3.9.12 torch-1.12.1 CUDA:0 (NVIDIA GeForce RTX 3070, 8191MiB)\n",
      "\n",
      "Fusing layers... \n",
      "YOLOv5s summary: 157 layers, 7015519 parameters, 0 gradients, 15.8 GFLOPs\n",
      "Adding AutoShape... \n"
     ]
    }
   ],
   "source": [
    "model = torch.hub.load('ultralytics/yolov5','yolov5s')\n",
    "model = torch.hub.load('ultralytics/yolov5', 'custom', path='./colab_best1.pt')  # custom model"
   ]
  },
  {
   "cell_type": "markdown",
   "id": "292fbd16",
   "metadata": {},
   "source": [
    "## 비디오를 통해 학습 결과 확인"
   ]
  },
  {
   "cell_type": "code",
   "execution_count": 8,
   "id": "dcbf48d5",
   "metadata": {},
   "outputs": [],
   "source": [
    "video = 'C:\\jong/aiProject/dashcam.mp4'"
   ]
  },
  {
   "cell_type": "code",
   "execution_count": 17,
   "id": "c3b25a2d",
   "metadata": {},
   "outputs": [],
   "source": [
    "cap = cv2.VideoCapture('C:\\jong/dashcam.mp4')\n",
    "while cap.isOpened():\n",
    "    ret, frame = cap.read()\n",
    "    \n",
    "    #make detections\n",
    "    results = model(frame)\n",
    "    \n",
    "    \n",
    "    cv2.imshow('YOLO',np.squeeze(results.render()))\n",
    "    \n",
    "    if cv2.waitKey(10) & 0xFF == ord('q'):\n",
    "        break\n",
    "cap.release()\n",
    "cv2.destroyAllWindows()"
   ]
  },
  {
   "cell_type": "code",
   "execution_count": null,
   "id": "9d84a7b8",
   "metadata": {},
   "outputs": [],
   "source": []
  },
  {
   "cell_type": "markdown",
   "id": "8d352c39",
   "metadata": {},
   "source": [
    "## 사용자 지정 모델을 lite 버전으로 변환하기"
   ]
  },
  {
   "cell_type": "code",
   "execution_count": 25,
   "id": "dbc10afd",
   "metadata": {},
   "outputs": [
    {
     "name": "stderr",
     "output_type": "stream",
     "text": [
      "\u001b[34m\u001b[1mexport: \u001b[0mdata=C:\\Users\\jong\\aiProject\\yolov5\\data\\coco128.yaml, weights=['./colab_best1.pt'], imgsz=[640, 640], batch_size=1, device=cpu, half=False, inplace=False, keras=False, optimize=False, int8=False, dynamic=False, simplify=False, opset=12, verbose=False, workspace=4, nms=False, agnostic_nms=False, topk_per_class=100, topk_all=100, iou_thres=0.45, conf_thres=0.25, include=['torchscript']\n",
      "YOLOv5  v6.2-188-g209be93 Python-3.9.12 torch-1.12.1 CPU\n",
      "\n",
      "Fusing layers... \n",
      "YOLOv5s summary: 157 layers, 7015519 parameters, 0 gradients, 15.8 GFLOPs\n",
      "\n",
      "\u001b[34m\u001b[1mPyTorch:\u001b[0m starting from colab_best1.pt with output shape (1, 25200, 7) (13.7 MB)\n",
      "\n",
      "\u001b[34m\u001b[1mTorchScript:\u001b[0m starting export with torch 1.12.1...\n",
      "\u001b[34m\u001b[1mTorchScript:\u001b[0m export success  1.9s, saved as colab_best1.torchscript (27.2 MB)\n",
      "\n",
      "Export complete (2.5s)\n",
      "Results saved to \u001b[1mC:\\Users\\jong\\aiProject\u001b[0m\n",
      "Detect:          python detect.py --weights colab_best1.torchscript \n",
      "Validate:        python val.py --weights colab_best1.torchscript \n",
      "PyTorch Hub:     model = torch.hub.load('ultralytics/yolov5', 'custom', 'colab_best1.torchscript')  \n",
      "Visualize:       https://netron.app\n"
     ]
    }
   ],
   "source": [
    "!python ./yolov5/export.py --weights ./colab_best1.pt --include torchscript"
   ]
  },
  {
   "cell_type": "code",
   "execution_count": 23,
   "id": "5721f324",
   "metadata": {},
   "outputs": [
    {
     "name": "stderr",
     "output_type": "stream",
     "text": [
      "\u001b[34m\u001b[1mexport: \u001b[0mdata=C:\\Users\\jong\\aiProject\\yolov5\\data\\coco128.yaml, weights=['yolov5s.pt'], imgsz=[640, 640], batch_size=1, device=cpu, half=False, inplace=False, keras=False, optimize=False, int8=False, dynamic=False, simplify=False, opset=12, verbose=False, workspace=4, nms=False, agnostic_nms=False, topk_per_class=100, topk_all=100, iou_thres=0.45, conf_thres=0.25, include=['torchscript']\n",
      "YOLOv5  v6.2-188-g209be93 Python-3.9.12 torch-1.12.1 CPU\n",
      "\n",
      "Fusing layers... \n",
      "YOLOv5s summary: 213 layers, 7225885 parameters, 0 gradients\n",
      "\n",
      "\u001b[34m\u001b[1mPyTorch:\u001b[0m starting from yolov5s.pt with output shape (1, 25200, 85) (14.1 MB)\n",
      "\n",
      "\u001b[34m\u001b[1mTorchScript:\u001b[0m starting export with torch 1.12.1...\n",
      "\u001b[34m\u001b[1mTorchScript:\u001b[0m export success  2.1s, saved as yolov5s.torchscript (28.1 MB)\n",
      "\n",
      "Export complete (2.7s)\n",
      "Results saved to \u001b[1mC:\\Users\\jong\\aiProject\u001b[0m\n",
      "Detect:          python detect.py --weights yolov5s.torchscript \n",
      "Validate:        python val.py --weights yolov5s.torchscript \n",
      "PyTorch Hub:     model = torch.hub.load('ultralytics/yolov5', 'custom', 'yolov5s.torchscript')  \n",
      "Visualize:       https://netron.app\n"
     ]
    }
   ],
   "source": [
    "!python ./yolov5/export.py --weights yolov5s.pt --include torchscript"
   ]
  },
  {
   "cell_type": "code",
   "execution_count": null,
   "id": "4b5fcd01",
   "metadata": {},
   "outputs": [],
   "source": []
  },
  {
   "cell_type": "markdown",
   "id": "5f1d289e",
   "metadata": {},
   "source": [
    "## .ptl 버전 낮추기  ?"
   ]
  },
  {
   "cell_type": "code",
   "execution_count": 3,
   "id": "c00a9e6f",
   "metadata": {},
   "outputs": [
    {
     "name": "stdout",
     "output_type": "stream",
     "text": [
      "model version 8\n"
     ]
    },
    {
     "ename": "RuntimeError",
     "evalue": "PytorchStreamReader failed reading zip archive: failed finding central directory",
     "output_type": "error",
     "traceback": [
      "\u001b[1;31m---------------------------------------------------------------------------\u001b[0m",
      "\u001b[1;31mRuntimeError\u001b[0m                              Traceback (most recent call last)",
      "Input \u001b[1;32mIn [3]\u001b[0m, in \u001b[0;36m<cell line: 11>\u001b[1;34m()\u001b[0m\n\u001b[0;32m      7\u001b[0m MODEL_OUTPUT_FILE \u001b[38;5;241m=\u001b[39m \u001b[38;5;124m\"\u001b[39m\u001b[38;5;124mmodel_v5.ptl\u001b[39m\u001b[38;5;124m\"\u001b[39m\n\u001b[0;32m      9\u001b[0m \u001b[38;5;28mprint\u001b[39m(\u001b[38;5;124m\"\u001b[39m\u001b[38;5;124mmodel version\u001b[39m\u001b[38;5;124m\"\u001b[39m, _get_model_bytecode_version(f_input\u001b[38;5;241m=\u001b[39mMODEL_INPUT_FILE))\n\u001b[1;32m---> 11\u001b[0m \u001b[43m_backport_for_mobile\u001b[49m\u001b[43m(\u001b[49m\u001b[43mf_input\u001b[49m\u001b[38;5;241;43m=\u001b[39;49m\u001b[43mMODEL_INPUT_FILE\u001b[49m\u001b[43m,\u001b[49m\u001b[43m \u001b[49m\u001b[43mf_output\u001b[49m\u001b[38;5;241;43m=\u001b[39;49m\u001b[43mMODEL_OUTPUT_FILE\u001b[49m\u001b[43m,\u001b[49m\u001b[43m \u001b[49m\u001b[43mto_version\u001b[49m\u001b[38;5;241;43m=\u001b[39;49m\u001b[38;5;241;43m5\u001b[39;49m\u001b[43m)\u001b[49m\n\u001b[0;32m     13\u001b[0m \u001b[38;5;28mprint\u001b[39m(\u001b[38;5;124m\"\u001b[39m\u001b[38;5;124mnew model version\u001b[39m\u001b[38;5;124m\"\u001b[39m, _get_model_bytecode_version(MODEL_OUTPUT_FILE))\n",
      "File \u001b[1;32m~\\Anaconda3\\envs\\torch\\lib\\site-packages\\torch\\jit\\mobile\\__init__.py:157\u001b[0m, in \u001b[0;36m_backport_for_mobile\u001b[1;34m(f_input, f_output, to_version)\u001b[0m\n\u001b[0;32m    153\u001b[0m         \u001b[38;5;28;01mraise\u001b[39;00m \u001b[38;5;167;01mValueError\u001b[39;00m(\u001b[38;5;124mf\u001b[39m\u001b[38;5;124m\"\u001b[39m\u001b[38;5;124mThe provided filename \u001b[39m\u001b[38;5;132;01m{\u001b[39;00mf_input\u001b[38;5;132;01m}\u001b[39;00m\u001b[38;5;124m is a directory\u001b[39m\u001b[38;5;124m\"\u001b[39m)\n\u001b[0;32m    155\u001b[0m \u001b[38;5;28;01mif\u001b[39;00m ((\u001b[38;5;28misinstance\u001b[39m(f_input, \u001b[38;5;28mstr\u001b[39m) \u001b[38;5;129;01mor\u001b[39;00m \u001b[38;5;28misinstance\u001b[39m(f_input, pathlib\u001b[38;5;241m.\u001b[39mPath)) \u001b[38;5;129;01mand\u001b[39;00m (\n\u001b[0;32m    156\u001b[0m         \u001b[38;5;28misinstance\u001b[39m(f_output, \u001b[38;5;28mstr\u001b[39m) \u001b[38;5;129;01mor\u001b[39;00m \u001b[38;5;28misinstance\u001b[39m(f_output, pathlib\u001b[38;5;241m.\u001b[39mPath))):\n\u001b[1;32m--> 157\u001b[0m     \u001b[38;5;28;01mreturn\u001b[39;00m \u001b[43mtorch\u001b[49m\u001b[38;5;241;43m.\u001b[39;49m\u001b[43m_C\u001b[49m\u001b[38;5;241;43m.\u001b[39;49m\u001b[43m_backport_for_mobile\u001b[49m\u001b[43m(\u001b[49m\u001b[38;5;28;43mstr\u001b[39;49m\u001b[43m(\u001b[49m\u001b[43mf_input\u001b[49m\u001b[43m)\u001b[49m\u001b[43m,\u001b[49m\u001b[43m \u001b[49m\u001b[38;5;28;43mstr\u001b[39;49m\u001b[43m(\u001b[49m\u001b[43mf_output\u001b[49m\u001b[43m)\u001b[49m\u001b[43m,\u001b[49m\u001b[43m \u001b[49m\u001b[43mto_version\u001b[49m\u001b[43m)\u001b[49m\n\u001b[0;32m    158\u001b[0m \u001b[38;5;28;01melse\u001b[39;00m:\n\u001b[0;32m    159\u001b[0m     \u001b[38;5;28;01mreturn\u001b[39;00m torch\u001b[38;5;241m.\u001b[39m_C\u001b[38;5;241m.\u001b[39m_backport_for_mobile_from_buffer(f_input\u001b[38;5;241m.\u001b[39mread(), \u001b[38;5;28mstr\u001b[39m(f_output), to_version)\n",
      "\u001b[1;31mRuntimeError\u001b[0m: PytorchStreamReader failed reading zip archive: failed finding central directory"
     ]
    }
   ],
   "source": [
    "from torch.jit.mobile import (\n",
    "    _backport_for_mobile,\n",
    "    _get_model_bytecode_version,\n",
    ")\n",
    "\n",
    "MODEL_INPUT_FILE = \"best.torchscript.ptl\"\n",
    "MODEL_OUTPUT_FILE = \"model_v5.ptl\"\n",
    "\n",
    "print(\"model version\", _get_model_bytecode_version(f_input=MODEL_INPUT_FILE))\n",
    "\n",
    "_backport_for_mobile(f_input=MODEL_INPUT_FILE, f_output=MODEL_OUTPUT_FILE, to_version=5)\n",
    "\n",
    "print(\"new model version\", _get_model_bytecode_version(MODEL_OUTPUT_FILE))"
   ]
  },
  {
   "cell_type": "code",
   "execution_count": null,
   "id": "616fcaa5",
   "metadata": {},
   "outputs": [],
   "source": [
    "convert2version5 = True\n",
    "if convert2version5:\n",
    "    from torch.jit.mobile import (\n",
    "        _backport_for_mobile,\n",
    "        _get_model_bytecode_version,\n",
    "    )\n",
    "\n",
    "    MODEL_INPUT_FILE = \"best.torchscript.ptl\"\n",
    "    MODEL_OUTPUT_FILE = \"model_v5.ptl\"\n",
    "\n",
    "    print(\"model version\", _get_model_bytecode_version(f_input=MODEL_INPUT_FILE))\n",
    "\n",
    "    _backport_for_mobile(f_input=MODEL_INPUT_FILE, f_output=MODEL_OUTPUT_FILE, to_version=5)\n",
    "\n",
    "    print(\"new model version\", _get_model_bytecode_version(MODEL_OUTPUT_FILE))"
   ]
  }
 ],
 "metadata": {
  "kernelspec": {
   "display_name": "Python 3 (ipykernel)",
   "language": "python",
   "name": "python3"
  },
  "language_info": {
   "codemirror_mode": {
    "name": "ipython",
    "version": 3
   },
   "file_extension": ".py",
   "mimetype": "text/x-python",
   "name": "python",
   "nbconvert_exporter": "python",
   "pygments_lexer": "ipython3",
   "version": "3.9.12"
  }
 },
 "nbformat": 4,
 "nbformat_minor": 5
}
